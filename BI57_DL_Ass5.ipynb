{
 "cells": [
  {
   "cell_type": "code",
   "execution_count": 1,
   "id": "85d3f94f",
   "metadata": {},
   "outputs": [],
   "source": [
    "import tensorflow"
   ]
  },
  {
   "cell_type": "code",
   "execution_count": 2,
   "id": "63119e6e",
   "metadata": {},
   "outputs": [],
   "source": [
    "import pandas as pd\n",
    "import numpy as np\n",
    "import collections\n",
    "import re"
   ]
  },
  {
   "cell_type": "code",
   "execution_count": 20,
   "id": "6d921ec4",
   "metadata": {},
   "outputs": [],
   "source": [
    "f=open(r\"C:\\Users\\Admin\\Desktop\\text.txt\")\n",
    "document=f.read()\n",
    "f.close()"
   ]
  },
  {
   "cell_type": "code",
   "execution_count": 21,
   "id": "f2309e56",
   "metadata": {},
   "outputs": [
    {
     "data": {
      "text/plain": [
       "'If you want to associate environment variables with an environment, you can use the config API. '"
      ]
     },
     "execution_count": 21,
     "metadata": {},
     "output_type": "execute_result"
    }
   ],
   "source": [
    "document"
   ]
  },
  {
   "cell_type": "code",
   "execution_count": 25,
   "id": "5435a424",
   "metadata": {},
   "outputs": [],
   "source": [
    "l_document = re.sub(r\"[^a-zA-Z0-9]\", \" \", document.lower()).split()"
   ]
  },
  {
   "cell_type": "code",
   "execution_count": 26,
   "id": "4c465946",
   "metadata": {},
   "outputs": [
    {
     "data": {
      "text/plain": [
       "['if',\n",
       " 'you',\n",
       " 'want',\n",
       " 'to',\n",
       " 'associate',\n",
       " 'environment',\n",
       " 'variables',\n",
       " 'with',\n",
       " 'an',\n",
       " 'environment',\n",
       " 'you',\n",
       " 'can',\n",
       " 'use',\n",
       " 'the',\n",
       " 'config',\n",
       " 'api']"
      ]
     },
     "execution_count": 26,
     "metadata": {},
     "output_type": "execute_result"
    }
   ],
   "source": [
    "l_document"
   ]
  },
  {
   "cell_type": "code",
   "execution_count": 27,
   "id": "a7fa1131",
   "metadata": {},
   "outputs": [],
   "source": [
    "wordset=set(l_document)"
   ]
  },
  {
   "cell_type": "code",
   "execution_count": 28,
   "id": "a04f8b56",
   "metadata": {},
   "outputs": [
    {
     "data": {
      "text/plain": [
       "{'an',\n",
       " 'api',\n",
       " 'associate',\n",
       " 'can',\n",
       " 'config',\n",
       " 'environment',\n",
       " 'if',\n",
       " 'the',\n",
       " 'to',\n",
       " 'use',\n",
       " 'variables',\n",
       " 'want',\n",
       " 'with',\n",
       " 'you'}"
      ]
     },
     "execution_count": 28,
     "metadata": {},
     "output_type": "execute_result"
    }
   ],
   "source": [
    "wordset"
   ]
  },
  {
   "cell_type": "code",
   "execution_count": 29,
   "id": "30c0d3de",
   "metadata": {},
   "outputs": [],
   "source": [
    "def calculateBOW(wordset,l_doc):\n",
    "  tf_diz = dict.fromkeys(wordset,0)\n",
    "  for word in l_doc:\n",
    "      tf_diz[word]=l_doc.count(word)\n",
    "  return tf_diz"
   ]
  },
  {
   "cell_type": "code",
   "execution_count": 30,
   "id": "2bf3e8b2",
   "metadata": {},
   "outputs": [
    {
     "data": {
      "text/html": [
       "<div>\n",
       "<style scoped>\n",
       "    .dataframe tbody tr th:only-of-type {\n",
       "        vertical-align: middle;\n",
       "    }\n",
       "\n",
       "    .dataframe tbody tr th {\n",
       "        vertical-align: top;\n",
       "    }\n",
       "\n",
       "    .dataframe thead th {\n",
       "        text-align: right;\n",
       "    }\n",
       "</style>\n",
       "<table border=\"1\" class=\"dataframe\">\n",
       "  <thead>\n",
       "    <tr style=\"text-align: right;\">\n",
       "      <th></th>\n",
       "      <th>if</th>\n",
       "      <th>with</th>\n",
       "      <th>can</th>\n",
       "      <th>config</th>\n",
       "      <th>to</th>\n",
       "      <th>an</th>\n",
       "      <th>use</th>\n",
       "      <th>want</th>\n",
       "      <th>variables</th>\n",
       "      <th>you</th>\n",
       "      <th>api</th>\n",
       "      <th>the</th>\n",
       "      <th>environment</th>\n",
       "      <th>associate</th>\n",
       "    </tr>\n",
       "  </thead>\n",
       "  <tbody>\n",
       "    <tr>\n",
       "      <th>0</th>\n",
       "      <td>1</td>\n",
       "      <td>1</td>\n",
       "      <td>1</td>\n",
       "      <td>1</td>\n",
       "      <td>1</td>\n",
       "      <td>1</td>\n",
       "      <td>1</td>\n",
       "      <td>1</td>\n",
       "      <td>1</td>\n",
       "      <td>2</td>\n",
       "      <td>1</td>\n",
       "      <td>1</td>\n",
       "      <td>2</td>\n",
       "      <td>1</td>\n",
       "    </tr>\n",
       "  </tbody>\n",
       "</table>\n",
       "</div>"
      ],
      "text/plain": [
       "   if  with  can  config  to  an  use  want  variables  you  api  the  \\\n",
       "0   1     1    1       1   1   1    1     1          1    2    1    1   \n",
       "\n",
       "   environment  associate  \n",
       "0            2          1  "
      ]
     },
     "execution_count": 30,
     "metadata": {},
     "output_type": "execute_result"
    }
   ],
   "source": [
    "bow1 = calculateBOW(wordset,l_document)\n",
    "df_bow = pd.DataFrame([bow1])\n",
    "df_bow.head()"
   ]
  },
  {
   "cell_type": "code",
   "execution_count": 31,
   "id": "175c1b09",
   "metadata": {},
   "outputs": [],
   "source": [
    "from sklearn.feature_extraction.text import CountVectorizer\n",
    "vectorizer = CountVectorizer()"
   ]
  },
  {
   "cell_type": "code",
   "execution_count": 33,
   "id": "411d3da4",
   "metadata": {},
   "outputs": [
    {
     "data": {
      "text/html": [
       "<div>\n",
       "<style scoped>\n",
       "    .dataframe tbody tr th:only-of-type {\n",
       "        vertical-align: middle;\n",
       "    }\n",
       "\n",
       "    .dataframe tbody tr th {\n",
       "        vertical-align: top;\n",
       "    }\n",
       "\n",
       "    .dataframe thead th {\n",
       "        text-align: right;\n",
       "    }\n",
       "</style>\n",
       "<table border=\"1\" class=\"dataframe\">\n",
       "  <thead>\n",
       "    <tr style=\"text-align: right;\">\n",
       "      <th></th>\n",
       "      <th>an</th>\n",
       "      <th>api</th>\n",
       "      <th>associate</th>\n",
       "      <th>can</th>\n",
       "      <th>config</th>\n",
       "      <th>environment</th>\n",
       "      <th>if</th>\n",
       "      <th>the</th>\n",
       "      <th>to</th>\n",
       "      <th>use</th>\n",
       "      <th>variables</th>\n",
       "      <th>want</th>\n",
       "      <th>with</th>\n",
       "      <th>you</th>\n",
       "    </tr>\n",
       "  </thead>\n",
       "  <tbody>\n",
       "    <tr>\n",
       "      <th>0</th>\n",
       "      <td>1</td>\n",
       "      <td>1</td>\n",
       "      <td>1</td>\n",
       "      <td>1</td>\n",
       "      <td>1</td>\n",
       "      <td>2</td>\n",
       "      <td>1</td>\n",
       "      <td>1</td>\n",
       "      <td>1</td>\n",
       "      <td>1</td>\n",
       "      <td>1</td>\n",
       "      <td>1</td>\n",
       "      <td>1</td>\n",
       "      <td>2</td>\n",
       "    </tr>\n",
       "  </tbody>\n",
       "</table>\n",
       "</div>"
      ],
      "text/plain": [
       "   an  api  associate  can  config  environment  if  the  to  use  variables  \\\n",
       "0   1    1          1    1       1            2   1    1   1    1          1   \n",
       "\n",
       "   want  with  you  \n",
       "0     1     1    2  "
      ]
     },
     "execution_count": 33,
     "metadata": {},
     "output_type": "execute_result"
    }
   ],
   "source": [
    "X = vectorizer.fit_transform([document])\n",
    "df_bow_sklearn = pd.DataFrame(X.toarray(),columns=vectorizer.get_feature_names_out())\n",
    "df_bow_sklearn.head()"
   ]
  },
  {
   "cell_type": "code",
   "execution_count": 34,
   "id": "76eb9128",
   "metadata": {},
   "outputs": [
    {
     "name": "stdout",
     "output_type": "stream",
     "text": [
      "['an' 'api' 'associate' 'can' 'config' 'environment' 'if' 'the' 'to' 'use'\n",
      " 'variables' 'want' 'with' 'you']\n"
     ]
    }
   ],
   "source": [
    "print(vectorizer.get_feature_names_out())"
   ]
  },
  {
   "cell_type": "code",
   "execution_count": 37,
   "id": "63c43f16",
   "metadata": {},
   "outputs": [
    {
     "name": "stderr",
     "output_type": "stream",
     "text": [
      "[nltk_data] Downloading package punkt to\n",
      "[nltk_data]     C:\\Users\\Admin\\AppData\\Roaming\\nltk_data...\n",
      "[nltk_data]   Package punkt is already up-to-date!\n"
     ]
    }
   ],
   "source": [
    "import nltk\n",
    "nltk.download('punkt')\n",
    "import re\n",
    "import numpy as np\n",
    "\n",
    "f= open(r\"C:\\Users\\Admin\\Desktop\\text.txt\")\n",
    "text=f.read()\n",
    "f.close()\n",
    "dataset = nltk.sent_tokenize(text)\n",
    "for i in range(len(dataset)):\n",
    "    dataset[i] = dataset[i].lower()\n",
    "    dataset[i] = re.sub(r'\\W', ' ', dataset[i])\n",
    "    dataset[i] = re.sub(r'\\s+', ' ', dataset[i])"
   ]
  },
  {
   "cell_type": "code",
   "execution_count": 38,
   "id": "e438154d",
   "metadata": {},
   "outputs": [
    {
     "name": "stdout",
     "output_type": "stream",
     "text": [
      "['if you want to associate environment variables with an environment you can use the config api ']\n"
     ]
    }
   ],
   "source": [
    "print(dataset)"
   ]
  },
  {
   "cell_type": "code",
   "execution_count": 39,
   "id": "c7a633ea",
   "metadata": {},
   "outputs": [],
   "source": [
    "word2count = {}\n",
    "for data in dataset:\n",
    "    words = nltk.word_tokenize(data)\n",
    "    for word in words:\n",
    "        if word not in word2count.keys():\n",
    "            word2count[word] = 1\n",
    "        else:\n",
    "            word2count[word] += 1"
   ]
  },
  {
   "cell_type": "code",
   "execution_count": 40,
   "id": "3b1b87a5",
   "metadata": {},
   "outputs": [
    {
     "data": {
      "text/plain": [
       "{'if': 1,\n",
       " 'you': 2,\n",
       " 'want': 1,\n",
       " 'to': 1,\n",
       " 'associate': 1,\n",
       " 'environment': 2,\n",
       " 'variables': 1,\n",
       " 'with': 1,\n",
       " 'an': 1,\n",
       " 'can': 1,\n",
       " 'use': 1,\n",
       " 'the': 1,\n",
       " 'config': 1,\n",
       " 'api': 1}"
      ]
     },
     "execution_count": 40,
     "metadata": {},
     "output_type": "execute_result"
    }
   ],
   "source": [
    "word2count"
   ]
  },
  {
   "cell_type": "code",
   "execution_count": 41,
   "id": "06efb25a",
   "metadata": {},
   "outputs": [],
   "source": [
    "vocab_size = len(wordset)\n",
    "embed_dim = 10\n",
    "context_size = 4"
   ]
  },
  {
   "cell_type": "code",
   "execution_count": 42,
   "id": "1eaadf4b",
   "metadata": {},
   "outputs": [],
   "source": [
    "word_to_ix = {word: i for i, word in enumerate(wordset)}\n",
    "ix_to_word = {i: word for i, word in enumerate(wordset)}"
   ]
  },
  {
   "cell_type": "code",
   "execution_count": 43,
   "id": "be084a97",
   "metadata": {},
   "outputs": [
    {
     "data": {
      "text/plain": [
       "{'if': 0,\n",
       " 'with': 1,\n",
       " 'can': 2,\n",
       " 'config': 3,\n",
       " 'to': 4,\n",
       " 'an': 5,\n",
       " 'use': 6,\n",
       " 'want': 7,\n",
       " 'variables': 8,\n",
       " 'you': 9,\n",
       " 'api': 10,\n",
       " 'the': 11,\n",
       " 'environment': 12,\n",
       " 'associate': 13}"
      ]
     },
     "execution_count": 43,
     "metadata": {},
     "output_type": "execute_result"
    }
   ],
   "source": [
    "word_to_ix"
   ]
  },
  {
   "cell_type": "code",
   "execution_count": 44,
   "id": "d1d867f2",
   "metadata": {},
   "outputs": [
    {
     "data": {
      "text/plain": [
       "{0: 'if',\n",
       " 1: 'with',\n",
       " 2: 'can',\n",
       " 3: 'config',\n",
       " 4: 'to',\n",
       " 5: 'an',\n",
       " 6: 'use',\n",
       " 7: 'want',\n",
       " 8: 'variables',\n",
       " 9: 'you',\n",
       " 10: 'api',\n",
       " 11: 'the',\n",
       " 12: 'environment',\n",
       " 13: 'associate'}"
      ]
     },
     "execution_count": 44,
     "metadata": {},
     "output_type": "execute_result"
    }
   ],
   "source": [
    "ix_to_word"
   ]
  },
  {
   "cell_type": "code",
   "execution_count": 45,
   "id": "b7a9cdbb",
   "metadata": {},
   "outputs": [
    {
     "name": "stdout",
     "output_type": "stream",
     "text": [
      "[(['if', 'you', 'to', 'associate'], 'want'), (['you', 'want', 'associate', 'environment'], 'to'), (['want', 'to', 'environment', 'variables'], 'associate'), (['to', 'associate', 'variables', 'with'], 'environment'), (['associate', 'environment', 'with', 'an'], 'variables')]\n"
     ]
    }
   ],
   "source": [
    "data = []\n",
    "for i in range(2, len(words) - 2):\n",
    "    context = [words[i - 2], words[i - 1], words[i + 1], words[i + 2]]\n",
    "    target = words[i]\n",
    "    data.append((context, target))\n",
    "print(data[:5])"
   ]
  },
  {
   "cell_type": "code",
   "execution_count": 46,
   "id": "9d74ee22",
   "metadata": {},
   "outputs": [],
   "source": [
    "embeddings =  np.random.random_sample((vocab_size, embed_dim))"
   ]
  },
  {
   "cell_type": "code",
   "execution_count": 47,
   "id": "8d350db5",
   "metadata": {},
   "outputs": [
    {
     "data": {
      "text/plain": [
       "array([[0.08267304, 0.06872026, 0.52314585, 0.85719784, 0.23772   ,\n",
       "        0.21990182, 0.59516288, 0.71610117, 0.0135521 , 0.32786658],\n",
       "       [0.87422636, 0.9516628 , 0.58702059, 0.58114781, 0.06213979,\n",
       "        0.66809174, 0.40835397, 0.77462323, 0.08932546, 0.99915129],\n",
       "       [0.92544957, 0.01498296, 0.66945095, 0.6775853 , 0.32878235,\n",
       "        0.83584151, 0.71668359, 0.82645497, 0.24184188, 0.28974657],\n",
       "       [0.93778769, 0.7786902 , 0.64712119, 0.53514385, 0.1035955 ,\n",
       "        0.08273537, 0.31713938, 0.34834821, 0.34856258, 0.04982951],\n",
       "       [0.99234292, 0.93822048, 0.28073592, 0.22362329, 0.96376676,\n",
       "        0.09481795, 0.7022882 , 0.34656426, 0.56779161, 0.50963159],\n",
       "       [0.83133302, 0.63362814, 0.05718258, 0.42295399, 0.31136499,\n",
       "        0.75578362, 0.69763447, 0.74176033, 0.45508205, 0.40099483],\n",
       "       [0.91259908, 0.8091109 , 0.71821172, 0.48200706, 0.71107511,\n",
       "        0.83958432, 0.18230773, 0.85929422, 0.88451157, 0.38777645],\n",
       "       [0.60251991, 0.58005213, 0.51924271, 0.09766742, 0.09339876,\n",
       "        0.99921754, 0.13523909, 0.24603776, 0.04676803, 0.68127441],\n",
       "       [0.48273284, 0.31194804, 0.33253094, 0.28536348, 0.95858413,\n",
       "        0.73051657, 0.12943171, 0.4085084 , 0.23834409, 0.18177285],\n",
       "       [0.96775123, 0.07719052, 0.78566105, 0.68862173, 0.95716544,\n",
       "        0.25867813, 0.73095074, 0.91189725, 0.8519008 , 0.47168835],\n",
       "       [0.15087434, 0.61855211, 0.9900737 , 0.21864929, 0.5205878 ,\n",
       "        0.5260361 , 0.06047527, 0.02868031, 0.84643083, 0.9322089 ],\n",
       "       [0.69422868, 0.75207946, 0.00739601, 0.0782964 , 0.39192214,\n",
       "        0.43202907, 0.93559772, 0.29486897, 0.60429403, 0.63154731],\n",
       "       [0.27478837, 0.03938594, 0.83430168, 0.00952585, 0.76060092,\n",
       "        0.20769285, 0.77576561, 0.39348018, 0.52399601, 0.92591978],\n",
       "       [0.88870875, 0.70144542, 0.79982161, 0.32783298, 0.72976906,\n",
       "        0.83529162, 0.56352137, 0.58888341, 0.35290347, 0.63938508]])"
      ]
     },
     "execution_count": 47,
     "metadata": {},
     "output_type": "execute_result"
    }
   ],
   "source": [
    "embeddings"
   ]
  },
  {
   "cell_type": "code",
   "execution_count": 48,
   "id": "1b9ffa5a",
   "metadata": {},
   "outputs": [],
   "source": [
    "def linear(m, theta):\n",
    "    w = theta\n",
    "    return m.dot(w)"
   ]
  },
  {
   "cell_type": "code",
   "execution_count": 49,
   "id": "1560a8a6",
   "metadata": {},
   "outputs": [],
   "source": [
    "def log_softmax(x):\n",
    "    e_x = np.exp(x - np.max(x))\n",
    "    return np.log(e_x / e_x.sum())\n",
    "def NLLLoss(logs, targets):\n",
    "    out = logs[range(len(targets)), targets]\n",
    "    return -out.sum()/len(out)"
   ]
  },
  {
   "cell_type": "code",
   "execution_count": 50,
   "id": "75be4d8c",
   "metadata": {},
   "outputs": [],
   "source": [
    "import tensorflow as tf\n",
    "import keras.backend as k\n",
    "from keras.models import Sequential\n",
    "from keras.layers import Dense, Embedding, Lambda"
   ]
  },
  {
   "cell_type": "code",
   "execution_count": 51,
   "id": "dd8ba575",
   "metadata": {},
   "outputs": [],
   "source": [
    "def log_softmax_crossentropy_with_logits(logits,target):\n",
    "\n",
    "    out = np.zeros_like(logits)\n",
    "    out[np.arange(len(logits)),target] = 1\n",
    "\n",
    "    softmax = np.exp(logits) / np.exp(logits).sum(axis=-1,keepdims=True)\n",
    "\n",
    "    return (- out + softmax) / logits.shape[0]"
   ]
  },
  {
   "cell_type": "code",
   "execution_count": 52,
   "id": "ba46f4e1",
   "metadata": {},
   "outputs": [],
   "source": [
    " def forward(context_idxs, theta):\n",
    "    m = embeddings[context_idxs].reshape(1, -1)\n",
    "    n = linear(m, theta)\n",
    "    o = log_softmax(n)\n",
    "\n",
    "    return m, n, o"
   ]
  },
  {
   "cell_type": "code",
   "execution_count": 53,
   "id": "994527f7",
   "metadata": {},
   "outputs": [],
   "source": [
    "def backward(preds, theta, target_idxs):\n",
    "    m, n, o = preds\n",
    "\n",
    "    dlog = log_softmax_crossentropy_with_logits(n, target_idxs)\n",
    "    dw = m.T.dot(dlog)\n",
    "\n",
    "    return dw"
   ]
  },
  {
   "cell_type": "code",
   "execution_count": 54,
   "id": "8d18696d",
   "metadata": {},
   "outputs": [],
   "source": [
    "def optimize(theta, grad, lr=0.03):\n",
    "    theta -= grad * lr\n",
    "    return theta"
   ]
  },
  {
   "cell_type": "code",
   "execution_count": 55,
   "id": "49c2973e",
   "metadata": {},
   "outputs": [],
   "source": [
    "theta = np.random.uniform(-1, 1, ( context_size * embed_dim, vocab_size))"
   ]
  },
  {
   "cell_type": "code",
   "execution_count": 56,
   "id": "b7fd3ce1",
   "metadata": {},
   "outputs": [],
   "source": [
    "epoch_losses = {}\n",
    "\n",
    "for epoch in range(80):\n",
    "\n",
    "    losses =  []\n",
    "\n",
    "    for context, target in data:\n",
    "        context_idxs = np.array([word_to_ix[w] for w in context])\n",
    "        preds = forward(context_idxs, theta)\n",
    "\n",
    "        target_idxs = np.array([word_to_ix[target]])\n",
    "        loss = NLLLoss(preds[-1], target_idxs)\n",
    "\n",
    "        losses.append(loss)\n",
    "\n",
    "        grad = backward(preds, theta, target_idxs)\n",
    "        theta = optimize(theta, grad, lr=0.03)\n",
    "\n",
    "        epoch_losses[epoch] = losses"
   ]
  },
  {
   "cell_type": "code",
   "execution_count": 57,
   "id": "68d8e5f0",
   "metadata": {},
   "outputs": [
    {
     "data": {
      "text/plain": [
       "Text(0, 0.5, 'Losses')"
      ]
     },
     "execution_count": 57,
     "metadata": {},
     "output_type": "execute_result"
    },
    {
     "data": {
      "image/png": "[encoded data removed]",
      "text/plain": [
       "<Figure size 432x288 with 1 Axes>"
      ]
     },
     "metadata": {
      "needs_background": "light"
     },
     "output_type": "display_data"
    }
   ],
   "source": [
    "import matplotlib.pyplot as plt\n",
    "ix = np.arange(0,80)\n",
    "\n",
    "fig = plt.figure()\n",
    "fig.suptitle('Epoch/Losses', fontsize=20)\n",
    "plt.plot(ix,[epoch_losses[i][0] for i in ix])\n",
    "plt.xlabel('Epochs', fontsize=12)\n",
    "plt.ylabel('Losses', fontsize=12)"
   ]
  },
  {
   "cell_type": "code",
   "execution_count": 59,
   "id": "0dc5eff9",
   "metadata": {},
   "outputs": [
    {
     "data": {
      "text/plain": [
       "'variables'"
      ]
     },
     "execution_count": 59,
     "metadata": {},
     "output_type": "execute_result"
    }
   ],
   "source": [
    "def predict(words):\n",
    "    context_idxs = np.array([word_to_ix[w] for w in words])\n",
    "    preds = forward(context_idxs, theta)\n",
    "    word = ix_to_word[np.argmax(preds[-1])]\n",
    "\n",
    "    return word\n",
    "predict(['associate', 'environment', 'with', 'environment'])"
   ]
  },
  {
   "cell_type": "code",
   "execution_count": 60,
   "id": "724f1c97",
   "metadata": {},
   "outputs": [
    {
     "data": {
      "text/plain": [
       "1.0"
      ]
     },
     "execution_count": 60,
     "metadata": {},
     "output_type": "execute_result"
    }
   ],
   "source": [
    "def accuracy():\n",
    "    wrong = 0\n",
    "\n",
    "    for context, target in data:\n",
    "        if(predict(context) != target):\n",
    "            wrong += 1\n",
    "\n",
    "    return (1 - (wrong / len(data)))\n",
    "accuracy()"
   ]
  },
  {
   "cell_type": "code",
   "execution_count": null,
   "id": "2650ac34",
   "metadata": {},
   "outputs": [],
   "source": []
  }
 ],
 "metadata": {
  "kernelspec": {
   "display_name": "Python 3 (ipykernel)",
   "language": "python",
   "name": "python3"
  },
  "language_info": {
   "codemirror_mode": {
    "name": "ipython",
    "version": 3
   },
   "file_extension": ".py",
   "mimetype": "text/x-python",
   "name": "python",
   "nbconvert_exporter": "python",
   "pygments_lexer": "ipython3",
   "version": "3.9.12"
  }
 },
 "nbformat": 4,
 "nbformat_minor": 5
}
