{
 "cells": [
  {
   "cell_type": "code",
   "execution_count": 17,
   "id": "1133d272",
   "metadata": {
    "scrolled": true
   },
   "outputs": [
    {
     "name": "stdout",
     "output_type": "stream",
     "text": [
      "Defaulting to user installation because normal site-packages is not writeable\n",
      "Requirement already satisfied: tensorflow in ./.local/lib/python3.10/site-packages (2.13.0)\n",
      "Requirement already satisfied: keras in ./.local/lib/python3.10/site-packages (2.13.1)\n",
      "Requirement already satisfied: scikit-learn in ./.local/lib/python3.10/site-packages (1.3.0)\n",
      "Requirement already satisfied: tqdm in ./.local/lib/python3.10/site-packages (4.66.1)\n",
      "Collecting mediapy\n",
      "  Downloading mediapy-1.1.9-py3-none-any.whl (25 kB)\n",
      "Requirement already satisfied: setuptools in /usr/lib/python3/dist-packages (from tensorflow) (59.6.0)\n",
      "Requirement already satisfied: gast<=0.4.0,>=0.2.1 in ./.local/lib/python3.10/site-packages (from tensorflow) (0.4.0)\n",
      "Requirement already satisfied: termcolor>=1.1.0 in ./.local/lib/python3.10/site-packages (from tensorflow) (2.3.0)\n",
      "Requirement already satisfied: packaging in ./.local/lib/python3.10/site-packages (from tensorflow) (23.1)\n",
      "Requirement already satisfied: tensorflow-io-gcs-filesystem>=0.23.1 in ./.local/lib/python3.10/site-packages (from tensorflow) (0.32.0)\n",
      "Requirement already satisfied: protobuf!=4.21.0,!=4.21.1,!=4.21.2,!=4.21.3,!=4.21.4,!=4.21.5,<5.0.0dev,>=3.20.3 in ./.local/lib/python3.10/site-packages (from tensorflow) (4.23.4)\n",
      "Requirement already satisfied: astunparse>=1.6.0 in ./.local/lib/python3.10/site-packages (from tensorflow) (1.6.3)\n",
      "Requirement already satisfied: libclang>=13.0.0 in ./.local/lib/python3.10/site-packages (from tensorflow) (16.0.6)\n",
      "Requirement already satisfied: grpcio<2.0,>=1.24.3 in ./.local/lib/python3.10/site-packages (from tensorflow) (1.56.2)\n",
      "Requirement already satisfied: flatbuffers>=23.1.21 in ./.local/lib/python3.10/site-packages (from tensorflow) (23.5.26)\n",
      "Requirement already satisfied: absl-py>=1.0.0 in ./.local/lib/python3.10/site-packages (from tensorflow) (1.4.0)\n",
      "Requirement already satisfied: google-pasta>=0.1.1 in ./.local/lib/python3.10/site-packages (from tensorflow) (0.2.0)\n",
      "Requirement already satisfied: six>=1.12.0 in /usr/lib/python3/dist-packages (from tensorflow) (1.16.0)\n",
      "Requirement already satisfied: wrapt>=1.11.0 in ./.local/lib/python3.10/site-packages (from tensorflow) (1.15.0)\n",
      "Requirement already satisfied: tensorflow-estimator<2.14,>=2.13.0 in ./.local/lib/python3.10/site-packages (from tensorflow) (2.13.0)\n",
      "Requirement already satisfied: opt-einsum>=2.3.2 in ./.local/lib/python3.10/site-packages (from tensorflow) (3.3.0)\n",
      "Requirement already satisfied: tensorboard<2.14,>=2.13 in ./.local/lib/python3.10/site-packages (from tensorflow) (2.13.0)\n",
      "Requirement already satisfied: h5py>=2.9.0 in ./.local/lib/python3.10/site-packages (from tensorflow) (3.9.0)\n",
      "Requirement already satisfied: typing-extensions<4.6.0,>=3.6.6 in ./.local/lib/python3.10/site-packages (from tensorflow) (4.5.0)\n",
      "Requirement already satisfied: numpy<=1.24.3,>=1.22 in ./.local/lib/python3.10/site-packages (from tensorflow) (1.24.3)\n",
      "Requirement already satisfied: threadpoolctl>=2.0.0 in ./.local/lib/python3.10/site-packages (from scikit-learn) (3.2.0)\n",
      "Requirement already satisfied: scipy>=1.5.0 in ./.local/lib/python3.10/site-packages (from scikit-learn) (1.11.1)\n",
      "Requirement already satisfied: joblib>=1.1.1 in ./.local/lib/python3.10/site-packages (from scikit-learn) (1.3.1)\n",
      "Requirement already satisfied: ipython in /usr/lib/python3/dist-packages (from mediapy) (7.31.1)\n",
      "Requirement already satisfied: Pillow in /usr/lib/python3/dist-packages (from mediapy) (9.0.1)\n",
      "Requirement already satisfied: matplotlib in ./.local/lib/python3.10/site-packages (from mediapy) (3.7.2)\n",
      "Requirement already satisfied: wheel<1.0,>=0.23.0 in /usr/lib/python3/dist-packages (from astunparse>=1.6.0->tensorflow) (0.37.1)\n",
      "Requirement already satisfied: markdown>=2.6.8 in ./.local/lib/python3.10/site-packages (from tensorboard<2.14,>=2.13->tensorflow) (3.4.4)\n",
      "Requirement already satisfied: google-auth<3,>=1.6.3 in ./.local/lib/python3.10/site-packages (from tensorboard<2.14,>=2.13->tensorflow) (2.22.0)\n",
      "Requirement already satisfied: google-auth-oauthlib<1.1,>=0.5 in ./.local/lib/python3.10/site-packages (from tensorboard<2.14,>=2.13->tensorflow) (1.0.0)\n",
      "Requirement already satisfied: tensorboard-data-server<0.8.0,>=0.7.0 in ./.local/lib/python3.10/site-packages (from tensorboard<2.14,>=2.13->tensorflow) (0.7.1)\n",
      "Requirement already satisfied: requests<3,>=2.21.0 in /usr/lib/python3/dist-packages (from tensorboard<2.14,>=2.13->tensorflow) (2.25.1)\n",
      "Requirement already satisfied: werkzeug>=1.0.1 in ./.local/lib/python3.10/site-packages (from tensorboard<2.14,>=2.13->tensorflow) (2.3.6)\n",
      "Requirement already satisfied: kiwisolver>=1.0.1 in ./.local/lib/python3.10/site-packages (from matplotlib->mediapy) (1.4.4)\n",
      "Requirement already satisfied: pyparsing<3.1,>=2.3.1 in /usr/lib/python3/dist-packages (from matplotlib->mediapy) (2.4.7)\n",
      "Requirement already satisfied: contourpy>=1.0.1 in ./.local/lib/python3.10/site-packages (from matplotlib->mediapy) (1.1.0)\n",
      "Requirement already satisfied: cycler>=0.10 in ./.local/lib/python3.10/site-packages (from matplotlib->mediapy) (0.11.0)\n",
      "Requirement already satisfied: fonttools>=4.22.0 in ./.local/lib/python3.10/site-packages (from matplotlib->mediapy) (4.41.1)\n",
      "Requirement already satisfied: python-dateutil>=2.7 in ./.local/lib/python3.10/site-packages (from matplotlib->mediapy) (2.8.2)\n",
      "Requirement already satisfied: cachetools<6.0,>=2.0.0 in ./.local/lib/python3.10/site-packages (from google-auth<3,>=1.6.3->tensorboard<2.14,>=2.13->tensorflow) (5.3.1)\n",
      "Requirement already satisfied: urllib3<2.0 in /usr/lib/python3/dist-packages (from google-auth<3,>=1.6.3->tensorboard<2.14,>=2.13->tensorflow) (1.26.5)\n",
      "Requirement already satisfied: pyasn1-modules>=0.2.1 in ./.local/lib/python3.10/site-packages (from google-auth<3,>=1.6.3->tensorboard<2.14,>=2.13->tensorflow) (0.3.0)\n",
      "Requirement already satisfied: rsa<5,>=3.1.4 in ./.local/lib/python3.10/site-packages (from google-auth<3,>=1.6.3->tensorboard<2.14,>=2.13->tensorflow) (4.9)\n",
      "Requirement already satisfied: requests-oauthlib>=0.7.0 in ./.local/lib/python3.10/site-packages (from google-auth-oauthlib<1.1,>=0.5->tensorboard<2.14,>=2.13->tensorflow) (1.3.1)\n",
      "Requirement already satisfied: MarkupSafe>=2.1.1 in ./.local/lib/python3.10/site-packages (from werkzeug>=1.0.1->tensorboard<2.14,>=2.13->tensorflow) (2.1.3)\n",
      "Requirement already satisfied: pyasn1<0.6.0,>=0.4.6 in ./.local/lib/python3.10/site-packages (from pyasn1-modules>=0.2.1->google-auth<3,>=1.6.3->tensorboard<2.14,>=2.13->tensorflow) (0.5.0)\n",
      "Requirement already satisfied: oauthlib>=3.0.0 in /usr/lib/python3/dist-packages (from requests-oauthlib>=0.7.0->google-auth-oauthlib<1.1,>=0.5->tensorboard<2.14,>=2.13->tensorflow) (3.2.0)\n",
      "Installing collected packages: mediapy\n",
      "Successfully installed mediapy-1.1.9\n"
     ]
    }
   ],
   "source": [
    "!pip install tensorflow keras scikit-learn tqdm mediapy"
   ]
  },
  {
   "cell_type": "code",
   "execution_count": 106,
   "id": "e9b2b3e5",
   "metadata": {
    "scrolled": true
   },
   "outputs": [],
   "source": [
    "#Loading dataset\n",
    "from sklearn.model_selection import train_test_split\n",
    "from keras.preprocessing.image import load_img, img_to_array, array_to_img\n",
    "import os\n",
    "import pandas\n",
    "import numpy as np\n",
    "\n",
    "train_path = '/home/student/Downloads/brain tumour/Training'\n",
    "\n",
    "images = []\n",
    "labels = []\n",
    "\n",
    "folder_names = ['no_tumor', 'pituitary_tumor', 'meningioma_tumor', 'glioma_tumor']\n",
    "\n",
    "label_value = 0\n",
    "\n",
    "for folder_name in folder_names:\n",
    "    for image in os.listdir(train_path+'/'+folder_name):\n",
    "        img = load_img(train_path+f'/{folder_name}/'+image)\n",
    "        img = img.resize((100, 100))\n",
    "        img = img_to_array(img)\n",
    "        images.append(img)\n",
    "\n",
    "        labels.append(label_value)\n",
    "        \n",
    "    label_value = label_value + 1\n",
    "    \n",
    "images = np.array(images)\n",
    "labels = np.array(labels)"
   ]
  },
  {
   "cell_type": "code",
   "execution_count": 111,
   "id": "e06caaf5",
   "metadata": {},
   "outputs": [
    {
     "name": "stdout",
     "output_type": "stream",
     "text": [
      "Class 0\n"
     ]
    },
    {
     "data": {
      "text/html": [
       "<table class=\"show_images\" style=\"border-spacing:0px;\"><tr><td style=\"padding:1px;\"><img width=\"100\" height=\"100\" style=\"image-rendering:auto; object-fit:cover;\" src=\"data:image/png;base64,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\"/></td></tr></table>"
      ],
      "text/plain": [
       "<IPython.core.display.HTML object>"
      ]
     },
     "metadata": {},
     "output_type": "display_data"
    }
   ],
   "source": [
    "import random, mediapy, PIL\n",
    "\n",
    "#Show preprocessed dataset\n",
    "r = random.randint(0,len(images))\n",
    "\n",
    "print('Class ' + str(labels[r]))\n",
    "mediapy.show_image(array_to_img(images[r]))"
   ]
  },
  {
   "cell_type": "code",
   "execution_count": 112,
   "id": "d5eda140",
   "metadata": {},
   "outputs": [],
   "source": [
    "#Train test split for testing\n",
    "xtrain, xtest, ytrain, ytest = train_test_split(images, labels, test_size=0.2)\n",
    "\n",
    "#Train test split for validation\n",
    "X_Train, xvalidation, Y_Train, yvalidation = train_test_split(images, labels, test_size=0.2)"
   ]
  },
  {
   "cell_type": "code",
   "execution_count": 113,
   "id": "1f69db37",
   "metadata": {},
   "outputs": [],
   "source": [
    "#Color range extends to 255\n",
    "\n",
    "xtrain =xtrain/255\n",
    "xtest = xtest/255"
   ]
  },
  {
   "cell_type": "code",
   "execution_count": 114,
   "id": "2f7038a3",
   "metadata": {},
   "outputs": [
    {
     "data": {
      "text/plain": [
       "(100, 100, 3)"
      ]
     },
     "execution_count": 114,
     "metadata": {},
     "output_type": "execute_result"
    }
   ],
   "source": [
    "xtrain[0].shape"
   ]
  },
  {
   "cell_type": "code",
   "execution_count": 115,
   "id": "6ef4963f",
   "metadata": {},
   "outputs": [],
   "source": [
    "import keras\n",
    "import tensorflow as tf\n",
    "\n",
    "cnn = keras.models.Sequential([\n",
    "\n",
    "    tf.keras.layers.Conv2D(filters=32, kernel_size=3,strides=(1,1),padding='valid', activation='relu', input_shape=(100,100,3)),\n",
    "    tf.keras.layers.MaxPooling2D((2, 2)),\n",
    "    tf.keras.layers.Conv2D(filters=64, kernel_size=3,strides=(2,2),padding='same', activation='relu'),\n",
    "    tf.keras.layers.MaxPooling2D((2, 2)),\n",
    "    tf.keras.layers.Flatten(),\n",
    "    tf.keras.layers.Dense(128, activation='relu'),\n",
    "    tf.keras.layers.Dropout(0.25),\n",
    "    tf.keras.layers.Dense(256, activation='relu'),\n",
    "    tf.keras.layers.Dropout(0.25),\n",
    "    tf.keras.layers.Dense(128, activation='relu'),\n",
    "    tf.keras.layers.Dense(10, activation='softmax')\n",
    "\n",
    "])"
   ]
  },
  {
   "cell_type": "code",
   "execution_count": 116,
   "id": "125ef884",
   "metadata": {},
   "outputs": [],
   "source": [
    "cnn.compile(optimizer='adam',loss='sparse_categorical_crossentropy',metrics=['accuracy'])"
   ]
  },
  {
   "cell_type": "code",
   "execution_count": 117,
   "id": "0eb5d66d",
   "metadata": {},
   "outputs": [
    {
     "name": "stderr",
     "output_type": "stream",
     "text": [
      "2023-10-23 14:22:18.890044: W tensorflow/tsl/framework/cpu_allocator_impl.cc:83] Allocation of 275520000 exceeds 10% of free system memory.\n"
     ]
    },
    {
     "name": "stdout",
     "output_type": "stream",
     "text": [
      "Epoch 1/10\n",
      "144/144 [==============================] - 8s 54ms/step - loss: 1.1521 - accuracy: 0.4956 - val_loss: 182.2877 - val_accuracy: 0.2822\n",
      "Epoch 2/10\n",
      "144/144 [==============================] - 7s 51ms/step - loss: 0.7242 - accuracy: 0.6873 - val_loss: 347.8389 - val_accuracy: 0.3711\n",
      "Epoch 3/10\n",
      "144/144 [==============================] - 8s 54ms/step - loss: 0.5639 - accuracy: 0.7613 - val_loss: 472.0992 - val_accuracy: 0.1847\n",
      "Epoch 4/10\n",
      "144/144 [==============================] - 7s 52ms/step - loss: 0.4383 - accuracy: 0.8206 - val_loss: 633.1351 - val_accuracy: 0.2700\n",
      "Epoch 5/10\n",
      "144/144 [==============================] - 8s 54ms/step - loss: 0.3028 - accuracy: 0.8807 - val_loss: 1104.8638 - val_accuracy: 0.1341\n",
      "Epoch 6/10\n",
      "144/144 [==============================] - 8s 52ms/step - loss: 0.2261 - accuracy: 0.9164 - val_loss: 579.8087 - val_accuracy: 0.2875\n",
      "Epoch 7/10\n",
      "144/144 [==============================] - 7s 51ms/step - loss: 0.1652 - accuracy: 0.9386 - val_loss: 791.6476 - val_accuracy: 0.1951\n",
      "Epoch 8/10\n",
      "144/144 [==============================] - 7s 51ms/step - loss: 0.1110 - accuracy: 0.9612 - val_loss: 1061.9556 - val_accuracy: 0.2456\n",
      "Epoch 9/10\n",
      "144/144 [==============================] - 8s 53ms/step - loss: 0.1195 - accuracy: 0.9582 - val_loss: 1152.3945 - val_accuracy: 0.3171\n",
      "Epoch 10/10\n",
      "144/144 [==============================] - 7s 51ms/step - loss: 0.0945 - accuracy: 0.9678 - val_loss: 669.4176 - val_accuracy: 0.3275\n"
     ]
    },
    {
     "data": {
      "text/plain": [
       "<keras.src.callbacks.History at 0x7fc8e0779f00>"
      ]
     },
     "execution_count": 117,
     "metadata": {},
     "output_type": "execute_result"
    }
   ],
   "source": [
    "cnn.fit(xtrain, ytrain, epochs=10 , batch_size=16 , verbose=1 , validation_data=(xvalidation, yvalidation))"
   ]
  },
  {
   "cell_type": "code",
   "execution_count": 118,
   "id": "348ca4be",
   "metadata": {},
   "outputs": [
    {
     "name": "stdout",
     "output_type": "stream",
     "text": [
      "18/18 [==============================] - 0s 17ms/step - loss: 0.6073 - accuracy: 0.8780\n"
     ]
    },
    {
     "data": {
      "text/plain": [
       "[0.6073227524757385, 0.8780487775802612]"
      ]
     },
     "execution_count": 118,
     "metadata": {},
     "output_type": "execute_result"
    }
   ],
   "source": [
    "cnn.evaluate(xtest, ytest)"
   ]
  },
  {
   "cell_type": "code",
   "execution_count": 127,
   "id": "8080ad80",
   "metadata": {},
   "outputs": [
    {
     "name": "stdout",
     "output_type": "stream",
     "text": [
      "447\n"
     ]
    },
    {
     "data": {
      "text/html": [
       "<table class=\"show_images\" style=\"border-spacing:0px;\"><tr><td style=\"padding:1px;\"><img width=\"100\" height=\"100\" style=\"image-rendering:auto; object-fit:cover;\" src=\"data:image/png;base64,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\"/></td></tr></table>"
      ],
      "text/plain": [
       "<IPython.core.display.HTML object>"
      ]
     },
     "metadata": {},
     "output_type": "display_data"
    },
    {
     "name": "stdout",
     "output_type": "stream",
     "text": [
      "18/18 [==============================] - 0s 16ms/step\n",
      "The predicted value is 0\n",
      "no_tumor\n"
     ]
    }
   ],
   "source": [
    "#Predict\n",
    "\n",
    "import random\n",
    "\n",
    "r = random.randint(0, len(xtest))\n",
    "print(r)\n",
    "mediapy.show_image(xtest[r])\n",
    "\n",
    "prediction = cnn.predict(xtest)\n",
    "output = np.argmax(prediction[r])\n",
    "print(f\"The predicted value is {output}\")\n",
    "print(folder_names[output])"
   ]
  },
  {
   "cell_type": "code",
   "execution_count": 128,
   "id": "74da15df",
   "metadata": {},
   "outputs": [
    {
     "name": "stdout",
     "output_type": "stream",
     "text": [
      "Defaulting to user installation because normal site-packages is not writeable\n",
      "Requirement already satisfied: theano in ./.local/lib/python3.10/site-packages (1.0.5)\n",
      "Requirement already satisfied: six>=1.9.0 in /usr/lib/python3/dist-packages (from theano) (1.16.0)\n",
      "Requirement already satisfied: scipy>=0.14 in ./.local/lib/python3.10/site-packages (from theano) (1.11.1)\n",
      "Requirement already satisfied: numpy>=1.9.1 in ./.local/lib/python3.10/site-packages (from theano) (1.24.3)\n"
     ]
    }
   ],
   "source": [
    "!pip install theano"
   ]
  }
 ],
 "metadata": {
  "kernelspec": {
   "display_name": "Python 3 (ipykernel)",
   "language": "python",
   "name": "python3"
  },
  "language_info": {
   "codemirror_mode": {
    "name": "ipython",
    "version": 3
   },
   "file_extension": ".py",
   "mimetype": "text/x-python",
   "name": "python",
   "nbconvert_exporter": "python",
   "pygments_lexer": "ipython3",
   "version": "3.10.12"
  }
 },
 "nbformat": 4,
 "nbformat_minor": 5
}
